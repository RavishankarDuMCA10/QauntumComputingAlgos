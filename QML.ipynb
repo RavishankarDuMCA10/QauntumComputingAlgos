{
 "cells": [
  {
   "cell_type": "code",
   "execution_count": 1,
   "id": "a0d279c9",
   "metadata": {},
   "outputs": [
    {
     "name": "stdout",
     "output_type": "stream",
     "text": [
      "Requirement already satisfied: qiskit in /Users/ravishankarkushwaha/anaconda3/lib/python3.11/site-packages (0.44.1)\n",
      "Requirement already satisfied: qiskit-terra==0.25.1 in /Users/ravishankarkushwaha/anaconda3/lib/python3.11/site-packages (from qiskit) (0.25.1)\n",
      "Requirement already satisfied: rustworkx>=0.13.0 in /Users/ravishankarkushwaha/anaconda3/lib/python3.11/site-packages (from qiskit-terra==0.25.1->qiskit) (0.13.1)\n",
      "Requirement already satisfied: numpy>=1.17 in /Users/ravishankarkushwaha/anaconda3/lib/python3.11/site-packages (from qiskit-terra==0.25.1->qiskit) (1.23.5)\n",
      "Requirement already satisfied: ply>=3.10 in /Users/ravishankarkushwaha/anaconda3/lib/python3.11/site-packages (from qiskit-terra==0.25.1->qiskit) (3.11)\n",
      "Requirement already satisfied: psutil>=5 in /Users/ravishankarkushwaha/anaconda3/lib/python3.11/site-packages (from qiskit-terra==0.25.1->qiskit) (5.9.0)\n",
      "Requirement already satisfied: scipy>=1.5 in /Users/ravishankarkushwaha/anaconda3/lib/python3.11/site-packages (from qiskit-terra==0.25.1->qiskit) (1.10.1)\n",
      "Requirement already satisfied: sympy>=1.3 in /Users/ravishankarkushwaha/anaconda3/lib/python3.11/site-packages (from qiskit-terra==0.25.1->qiskit) (1.11.1)\n",
      "Requirement already satisfied: dill>=0.3 in /Users/ravishankarkushwaha/anaconda3/lib/python3.11/site-packages (from qiskit-terra==0.25.1->qiskit) (0.3.6)\n",
      "Requirement already satisfied: python-dateutil>=2.8.0 in /Users/ravishankarkushwaha/anaconda3/lib/python3.11/site-packages (from qiskit-terra==0.25.1->qiskit) (2.8.2)\n",
      "Requirement already satisfied: stevedore>=3.0.0 in /Users/ravishankarkushwaha/anaconda3/lib/python3.11/site-packages (from qiskit-terra==0.25.1->qiskit) (5.1.0)\n",
      "Requirement already satisfied: symengine<0.10,>=0.9 in /Users/ravishankarkushwaha/anaconda3/lib/python3.11/site-packages (from qiskit-terra==0.25.1->qiskit) (0.9.2)\n",
      "Requirement already satisfied: six>=1.5 in /Users/ravishankarkushwaha/anaconda3/lib/python3.11/site-packages (from python-dateutil>=2.8.0->qiskit-terra==0.25.1->qiskit) (1.16.0)\n",
      "Requirement already satisfied: pbr!=2.1.0,>=2.0.0 in /Users/ravishankarkushwaha/anaconda3/lib/python3.11/site-packages (from stevedore>=3.0.0->qiskit-terra==0.25.1->qiskit) (5.11.1)\n",
      "Requirement already satisfied: mpmath>=0.19 in /Users/ravishankarkushwaha/anaconda3/lib/python3.11/site-packages (from sympy>=1.3->qiskit-terra==0.25.1->qiskit) (1.3.0)\n",
      "Note: you may need to restart the kernel to use updated packages.\n"
     ]
    }
   ],
   "source": [
    "pip install qiskit"
   ]
  },
  {
   "cell_type": "code",
   "execution_count": 2,
   "id": "98a23a13",
   "metadata": {},
   "outputs": [
    {
     "name": "stdout",
     "output_type": "stream",
     "text": [
      "Requirement already satisfied: pylatexenc in /Users/ravishankarkushwaha/anaconda3/lib/python3.11/site-packages (2.10)\n",
      "Note: you may need to restart the kernel to use updated packages.\n"
     ]
    }
   ],
   "source": [
    "pip install pylatexenc"
   ]
  },
  {
   "cell_type": "code",
   "execution_count": 3,
   "id": "f4d74197",
   "metadata": {},
   "outputs": [
    {
     "name": "stdout",
     "output_type": "stream",
     "text": [
      "Requirement already satisfied: qiskit-aer in /Users/ravishankarkushwaha/anaconda3/lib/python3.11/site-packages (0.12.2)\n",
      "Requirement already satisfied: qiskit-terra>=0.21.0 in /Users/ravishankarkushwaha/anaconda3/lib/python3.11/site-packages (from qiskit-aer) (0.25.1)\n",
      "Requirement already satisfied: numpy>=1.16.3 in /Users/ravishankarkushwaha/anaconda3/lib/python3.11/site-packages (from qiskit-aer) (1.23.5)\n",
      "Requirement already satisfied: scipy>=1.0 in /Users/ravishankarkushwaha/anaconda3/lib/python3.11/site-packages (from qiskit-aer) (1.10.1)\n",
      "Requirement already satisfied: rustworkx>=0.13.0 in /Users/ravishankarkushwaha/anaconda3/lib/python3.11/site-packages (from qiskit-terra>=0.21.0->qiskit-aer) (0.13.1)\n",
      "Requirement already satisfied: ply>=3.10 in /Users/ravishankarkushwaha/anaconda3/lib/python3.11/site-packages (from qiskit-terra>=0.21.0->qiskit-aer) (3.11)\n",
      "Requirement already satisfied: psutil>=5 in /Users/ravishankarkushwaha/anaconda3/lib/python3.11/site-packages (from qiskit-terra>=0.21.0->qiskit-aer) (5.9.0)\n",
      "Requirement already satisfied: sympy>=1.3 in /Users/ravishankarkushwaha/anaconda3/lib/python3.11/site-packages (from qiskit-terra>=0.21.0->qiskit-aer) (1.11.1)\n",
      "Requirement already satisfied: dill>=0.3 in /Users/ravishankarkushwaha/anaconda3/lib/python3.11/site-packages (from qiskit-terra>=0.21.0->qiskit-aer) (0.3.6)\n",
      "Requirement already satisfied: python-dateutil>=2.8.0 in /Users/ravishankarkushwaha/anaconda3/lib/python3.11/site-packages (from qiskit-terra>=0.21.0->qiskit-aer) (2.8.2)\n",
      "Requirement already satisfied: stevedore>=3.0.0 in /Users/ravishankarkushwaha/anaconda3/lib/python3.11/site-packages (from qiskit-terra>=0.21.0->qiskit-aer) (5.1.0)\n",
      "Requirement already satisfied: symengine<0.10,>=0.9 in /Users/ravishankarkushwaha/anaconda3/lib/python3.11/site-packages (from qiskit-terra>=0.21.0->qiskit-aer) (0.9.2)\n",
      "Requirement already satisfied: six>=1.5 in /Users/ravishankarkushwaha/anaconda3/lib/python3.11/site-packages (from python-dateutil>=2.8.0->qiskit-terra>=0.21.0->qiskit-aer) (1.16.0)\n",
      "Requirement already satisfied: pbr!=2.1.0,>=2.0.0 in /Users/ravishankarkushwaha/anaconda3/lib/python3.11/site-packages (from stevedore>=3.0.0->qiskit-terra>=0.21.0->qiskit-aer) (5.11.1)\n",
      "Requirement already satisfied: mpmath>=0.19 in /Users/ravishankarkushwaha/anaconda3/lib/python3.11/site-packages (from sympy>=1.3->qiskit-terra>=0.21.0->qiskit-aer) (1.3.0)\n",
      "Note: you may need to restart the kernel to use updated packages.\n"
     ]
    }
   ],
   "source": [
    "pip install qiskit-aer"
   ]
  },
  {
   "cell_type": "code",
   "execution_count": 4,
   "id": "7cb652ae",
   "metadata": {},
   "outputs": [
    {
     "name": "stdout",
     "output_type": "stream",
     "text": [
      "Requirement already satisfied: qiskit-ibmq-provider in /Users/ravishankarkushwaha/anaconda3/lib/python3.11/site-packages (0.20.2)\n",
      "Requirement already satisfied: qiskit-terra>=0.18.0 in /Users/ravishankarkushwaha/anaconda3/lib/python3.11/site-packages (from qiskit-ibmq-provider) (0.25.1)\n",
      "Requirement already satisfied: requests>=2.19 in /Users/ravishankarkushwaha/anaconda3/lib/python3.11/site-packages (from qiskit-ibmq-provider) (2.31.0)\n",
      "Requirement already satisfied: requests-ntlm<=1.1.0 in /Users/ravishankarkushwaha/anaconda3/lib/python3.11/site-packages (from qiskit-ibmq-provider) (1.1.0)\n",
      "Requirement already satisfied: numpy<1.24 in /Users/ravishankarkushwaha/anaconda3/lib/python3.11/site-packages (from qiskit-ibmq-provider) (1.23.5)\n",
      "Requirement already satisfied: urllib3>=1.21.1 in /Users/ravishankarkushwaha/anaconda3/lib/python3.11/site-packages (from qiskit-ibmq-provider) (1.26.16)\n",
      "Requirement already satisfied: python-dateutil>=2.8.0 in /Users/ravishankarkushwaha/anaconda3/lib/python3.11/site-packages (from qiskit-ibmq-provider) (2.8.2)\n",
      "Requirement already satisfied: websocket-client>=1.5.1 in /Users/ravishankarkushwaha/anaconda3/lib/python3.11/site-packages (from qiskit-ibmq-provider) (1.6.3)\n",
      "Requirement already satisfied: websockets>=10.0 in /Users/ravishankarkushwaha/anaconda3/lib/python3.11/site-packages (from qiskit-ibmq-provider) (11.0.3)\n",
      "Requirement already satisfied: six>=1.5 in /Users/ravishankarkushwaha/anaconda3/lib/python3.11/site-packages (from python-dateutil>=2.8.0->qiskit-ibmq-provider) (1.16.0)\n",
      "Requirement already satisfied: rustworkx>=0.13.0 in /Users/ravishankarkushwaha/anaconda3/lib/python3.11/site-packages (from qiskit-terra>=0.18.0->qiskit-ibmq-provider) (0.13.1)\n",
      "Requirement already satisfied: ply>=3.10 in /Users/ravishankarkushwaha/anaconda3/lib/python3.11/site-packages (from qiskit-terra>=0.18.0->qiskit-ibmq-provider) (3.11)\n",
      "Requirement already satisfied: psutil>=5 in /Users/ravishankarkushwaha/anaconda3/lib/python3.11/site-packages (from qiskit-terra>=0.18.0->qiskit-ibmq-provider) (5.9.0)\n",
      "Requirement already satisfied: scipy>=1.5 in /Users/ravishankarkushwaha/anaconda3/lib/python3.11/site-packages (from qiskit-terra>=0.18.0->qiskit-ibmq-provider) (1.10.1)\n",
      "Requirement already satisfied: sympy>=1.3 in /Users/ravishankarkushwaha/anaconda3/lib/python3.11/site-packages (from qiskit-terra>=0.18.0->qiskit-ibmq-provider) (1.11.1)\n",
      "Requirement already satisfied: dill>=0.3 in /Users/ravishankarkushwaha/anaconda3/lib/python3.11/site-packages (from qiskit-terra>=0.18.0->qiskit-ibmq-provider) (0.3.6)\n",
      "Requirement already satisfied: stevedore>=3.0.0 in /Users/ravishankarkushwaha/anaconda3/lib/python3.11/site-packages (from qiskit-terra>=0.18.0->qiskit-ibmq-provider) (5.1.0)\n",
      "Requirement already satisfied: symengine<0.10,>=0.9 in /Users/ravishankarkushwaha/anaconda3/lib/python3.11/site-packages (from qiskit-terra>=0.18.0->qiskit-ibmq-provider) (0.9.2)\n",
      "Requirement already satisfied: charset-normalizer<4,>=2 in /Users/ravishankarkushwaha/anaconda3/lib/python3.11/site-packages (from requests>=2.19->qiskit-ibmq-provider) (2.0.4)\n",
      "Requirement already satisfied: idna<4,>=2.5 in /Users/ravishankarkushwaha/anaconda3/lib/python3.11/site-packages (from requests>=2.19->qiskit-ibmq-provider) (3.4)\n",
      "Requirement already satisfied: certifi>=2017.4.17 in /Users/ravishankarkushwaha/anaconda3/lib/python3.11/site-packages (from requests>=2.19->qiskit-ibmq-provider) (2023.7.22)\n",
      "Requirement already satisfied: ntlm-auth>=1.0.2 in /Users/ravishankarkushwaha/anaconda3/lib/python3.11/site-packages (from requests-ntlm<=1.1.0->qiskit-ibmq-provider) (1.5.0)\n",
      "Requirement already satisfied: cryptography>=1.3 in /Users/ravishankarkushwaha/anaconda3/lib/python3.11/site-packages (from requests-ntlm<=1.1.0->qiskit-ibmq-provider) (41.0.2)\n",
      "Requirement already satisfied: cffi>=1.12 in /Users/ravishankarkushwaha/anaconda3/lib/python3.11/site-packages (from cryptography>=1.3->requests-ntlm<=1.1.0->qiskit-ibmq-provider) (1.15.1)\n",
      "Requirement already satisfied: pbr!=2.1.0,>=2.0.0 in /Users/ravishankarkushwaha/anaconda3/lib/python3.11/site-packages (from stevedore>=3.0.0->qiskit-terra>=0.18.0->qiskit-ibmq-provider) (5.11.1)\n",
      "Requirement already satisfied: mpmath>=0.19 in /Users/ravishankarkushwaha/anaconda3/lib/python3.11/site-packages (from sympy>=1.3->qiskit-terra>=0.18.0->qiskit-ibmq-provider) (1.3.0)\n",
      "Requirement already satisfied: pycparser in /Users/ravishankarkushwaha/anaconda3/lib/python3.11/site-packages (from cffi>=1.12->cryptography>=1.3->requests-ntlm<=1.1.0->qiskit-ibmq-provider) (2.21)\n",
      "Note: you may need to restart the kernel to use updated packages.\n"
     ]
    }
   ],
   "source": [
    "pip install qiskit-ibmq-provider"
   ]
  },
  {
   "cell_type": "code",
   "execution_count": 5,
   "id": "a9f7f861",
   "metadata": {},
   "outputs": [],
   "source": [
    "from sklearn import model_selection, datasets, svm\n",
    "from qiskit import QuantumCircuit, IBMQ, QuantumRegister, ClassicalRegister\n",
    "import qiskit_aer\n",
    "import qiskit\n",
    "import numpy as np\n",
    "import copy\n",
    "import matplotlib.pyplot as plt"
   ]
  },
  {
   "cell_type": "code",
   "execution_count": null,
   "id": "e94b5160",
   "metadata": {},
   "outputs": [],
   "source": []
  },
  {
   "cell_type": "code",
   "execution_count": 6,
   "id": "138c1698",
   "metadata": {},
   "outputs": [],
   "source": [
    "iris = datasets.load_iris()\n",
    "X = iris.data[0:100]\n",
    "Y = iris.target[0:100]\n",
    "X_train, X_test, Y_train, Y_test = model_selection.train_test_split(X, Y, test_size=0.33, random_state=42)"
   ]
  },
  {
   "cell_type": "code",
   "execution_count": 7,
   "id": "46f76bb2",
   "metadata": {},
   "outputs": [
    {
     "name": "stdout",
     "output_type": "stream",
     "text": [
      "[0 1 0 1 1 0 0 0 0 0 1 0 0 1 0 1 0 0 0 0 0 0 1 0 1 0 1 1 1 1 0 1 1 0 1 1 1\n",
      " 1 0 1 0 1 1 1 0 1 1 1 1 0 0 0 1 0 0 0 1 1 1 1 1 0 1 1 0 1 1]\n"
     ]
    }
   ],
   "source": [
    "print(Y_train)"
   ]
  },
  {
   "cell_type": "code",
   "execution_count": 8,
   "id": "6b8476d2",
   "metadata": {},
   "outputs": [
    {
     "name": "stdout",
     "output_type": "stream",
     "text": [
      "[5.2 3.4 1.4 0.2]\n"
     ]
    }
   ],
   "source": [
    "print(X_train[0])"
   ]
  },
  {
   "cell_type": "code",
   "execution_count": 9,
   "id": "6b77bd5d",
   "metadata": {},
   "outputs": [],
   "source": [
    "N = 4"
   ]
  },
  {
   "cell_type": "code",
   "execution_count": 10,
   "id": "3e281768",
   "metadata": {},
   "outputs": [],
   "source": [
    "def feature_map(x):\n",
    "    q = QuantumRegister(N)\n",
    "    c = ClassicalRegister(1)\n",
    "    qc = QuantumCircuit(q, c)\n",
    "\n",
    "    for i, x in enumerate(x):\n",
    "        qc.rx(x, i)\n",
    "        \n",
    "    return qc, c"
   ]
  },
  {
   "cell_type": "code",
   "execution_count": 11,
   "id": "3fc5a0c2",
   "metadata": {},
   "outputs": [],
   "source": [
    "def variational_circuit(qc, theta):\n",
    "    for i in range(N-1):\n",
    "        qc.cnot(i, i+1)\n",
    "    qc.cnot(N-1, 0)\n",
    "    for i in range(N):\n",
    "        qc.ry(theta[i], i)\n",
    "    return qc"
   ]
  },
  {
   "cell_type": "code",
   "execution_count": 12,
   "id": "dc1d12ed",
   "metadata": {},
   "outputs": [],
   "source": [
    "def quantum_nn(x, theta, simulator=True):\n",
    "    qc, c = feature_map(x)\n",
    "\n",
    "#     qc.barrier()\n",
    "\n",
    "    qc = variational_circuit(qc, theta)\n",
    "\n",
    "#     qc.barrier()\n",
    "\n",
    "    qc.measure(0, c)\n",
    "\n",
    "    shots = 1E4\n",
    "    backend = qiskit_aer.Aer.get_backend('qasm_simulator')\n",
    "    \n",
    "    if simulator == False:\n",
    "        \n",
    "        shots = 5000\n",
    "        IBMQ.save_account('YOUR_API_TOKEN', overwrite=True)\n",
    "        provider = IBMQ.load_account()\n",
    "        backend = provider.get_backend('ibm_nairobi')\n",
    "    \n",
    "    job = qiskit.execute(qc, backend, shots=shots)\n",
    "    result = job.result()\n",
    "    counts = result.get_counts(qc)\n",
    "    return counts['1']/shots\n",
    "#     qc.draw('mpl')"
   ]
  },
  {
   "cell_type": "code",
   "execution_count": 13,
   "id": "466c0cd9",
   "metadata": {},
   "outputs": [],
   "source": [
    "def loss(prediction, target):\n",
    "    return (target - prediction)**2"
   ]
  },
  {
   "cell_type": "code",
   "execution_count": 14,
   "id": "3b08e4eb",
   "metadata": {},
   "outputs": [],
   "source": [
    "def gradient(X, Y, theta):\n",
    "    \n",
    "    delta = 0.01\n",
    "    grad = []\n",
    "    for i in range(len(theta)):\n",
    "        \n",
    "        dtheta = copy.copy(theta)\n",
    "        dtheta[i] += delta\n",
    "        \n",
    "        pred1 = quantum_nn(X, dtheta)\n",
    "        pred2 = quantum_nn(X, theta)\n",
    "        \n",
    "        grad.append((loss(pred1, Y) - loss(pred2, Y)) / delta)\n",
    "\n",
    "    return np.array(grad)"
   ]
  },
  {
   "cell_type": "code",
   "execution_count": 15,
   "id": "942acd78",
   "metadata": {},
   "outputs": [],
   "source": [
    "def accuracy(X, Y, theta):\n",
    "    \n",
    "    counter = 0\n",
    "    for X_i, Y_i in zip(X, Y):\n",
    "        \n",
    "        prediction = quantum_nn(X_i, theta)\n",
    "        \n",
    "        if prediction < 0.5 and Y_i == 0:\n",
    "            counter +=1\n",
    "        elif prediction >= 0.5 and Y_i == 1:\n",
    "            counter +=1\n",
    "            \n",
    "    return counter/len(Y)"
   ]
  },
  {
   "cell_type": "code",
   "execution_count": 16,
   "id": "bdf7bd21",
   "metadata": {},
   "outputs": [
    {
     "name": "stdout",
     "output_type": "stream",
     "text": [
      "Epoch \t Loss \t Training Accuracy\n",
      "0 \t 0.266 \t 0.821\n",
      "1 \t 0.236 \t 0.791\n",
      "2 \t 0.221 \t 0.821\n",
      "3 \t 0.217 \t 0.851\n",
      "4 \t 0.230 \t 0.851\n",
      "5 \t 0.231 \t 0.687\n",
      "6 \t 0.254 \t 0.448\n",
      "7 \t 0.234 \t 0.791\n",
      "8 \t 0.213 \t 0.851\n",
      "9 \t 0.207 \t 0.866\n",
      "10 \t 0.212 \t 0.791\n",
      "11 \t 0.221 \t 0.806\n",
      "12 \t 0.214 \t 0.791\n",
      "13 \t 0.215 \t 0.821\n",
      "14 \t 0.208 \t 0.866\n",
      "15 \t 0.202 \t 0.851\n",
      "16 \t 0.202 \t 0.791\n",
      "17 \t 0.202 \t 0.821\n",
      "18 \t 0.202 \t 0.836\n",
      "19 \t 0.202 \t 0.866\n"
     ]
    }
   ],
   "source": [
    "eta = 0.05 # Learning rate\n",
    "loss_list = []\n",
    "theta = np.ones(N)\n",
    "\n",
    "print('Epoch \\t Loss \\t Training Accuracy')\n",
    "\n",
    "for i in range(20):\n",
    "    \n",
    "    loss_tmp = []\n",
    "    \n",
    "    for X_i, Y_i in zip(X_train, Y_train):\n",
    "        \n",
    "        prediction = quantum_nn(X_i, theta)\n",
    "        loss_tmp.append(loss(prediction, Y_i))\n",
    "        theta = theta - eta * gradient(X_i, Y_i, theta)\n",
    "    \n",
    "    loss_list.append(np.mean(loss_tmp))\n",
    "    acc = accuracy(X_train, Y_train, theta)\n",
    "    \n",
    "    print(f'{i} \\t {loss_list[-1]:.3f} \\t {acc:.3f}')"
   ]
  },
  {
   "cell_type": "code",
   "execution_count": 17,
   "id": "24f8e55b",
   "metadata": {},
   "outputs": [
    {
     "data": {
      "text/plain": [
       "<function matplotlib.pyplot.show(close=None, block=None)>"
      ]
     },
     "execution_count": 17,
     "metadata": {},
     "output_type": "execute_result"
    },
    {
     "data": {
      "image/png": "[encoded data removed]",
      "text/plain": [
       "<Figure size 640x480 with 1 Axes>"
      ]
     },
     "metadata": {},
     "output_type": "display_data"
    }
   ],
   "source": [
    "plt.plot(loss_list)\n",
    "plt.xlabel('Epoch')\n",
    "plt.ylabel('Loss')\n",
    "plt.show"
   ]
  },
  {
   "cell_type": "code",
   "execution_count": 18,
   "id": "4b5a870e",
   "metadata": {},
   "outputs": [
    {
     "data": {
      "text/plain": [
       "0.7272727272727273"
      ]
     },
     "execution_count": 18,
     "metadata": {},
     "output_type": "execute_result"
    }
   ],
   "source": [
    "accuracy(X_test, Y_test, theta)"
   ]
  },
  {
   "cell_type": "markdown",
   "id": "3b27f1a2",
   "metadata": {},
   "source": [
    "Classical ML"
   ]
  },
  {
   "cell_type": "code",
   "execution_count": 19,
   "id": "d8a13b5e",
   "metadata": {},
   "outputs": [
    {
     "data": {
      "text/html": [
       "<style>#sk-container-id-1 {color: black;}#sk-container-id-1 pre{padding: 0;}#sk-container-id-1 div.sk-toggleable {background-color: white;}#sk-container-id-1 label.sk-toggleable__label {cursor: pointer;display: block;width: 100%;margin-bottom: 0;padding: 0.3em;box-sizing: border-box;text-align: center;}#sk-container-id-1 label.sk-toggleable__label-arrow:before {content: \"▸\";float: left;margin-right: 0.25em;color: #696969;}#sk-container-id-1 label.sk-toggleable__label-arrow:hover:before {color: black;}#sk-container-id-1 div.sk-estimator:hover label.sk-toggleable__label-arrow:before {color: black;}#sk-container-id-1 div.sk-toggleable__content {max-height: 0;max-width: 0;overflow: hidden;text-align: left;background-color: #f0f8ff;}#sk-container-id-1 div.sk-toggleable__content pre {margin: 0.2em;color: black;border-radius: 0.25em;background-color: #f0f8ff;}#sk-container-id-1 input.sk-toggleable__control:checked~div.sk-toggleable__content {max-height: 200px;max-width: 100%;overflow: auto;}#sk-container-id-1 input.sk-toggleable__control:checked~label.sk-toggleable__label-arrow:before {content: \"▾\";}#sk-container-id-1 div.sk-estimator input.sk-toggleable__control:checked~label.sk-toggleable__label {background-color: #d4ebff;}#sk-container-id-1 div.sk-label input.sk-toggleable__control:checked~label.sk-toggleable__label {background-color: #d4ebff;}#sk-container-id-1 input.sk-hidden--visually {border: 0;clip: rect(1px 1px 1px 1px);clip: rect(1px, 1px, 1px, 1px);height: 1px;margin: -1px;overflow: hidden;padding: 0;position: absolute;width: 1px;}#sk-container-id-1 div.sk-estimator {font-family: monospace;background-color: #f0f8ff;border: 1px dotted black;border-radius: 0.25em;box-sizing: border-box;margin-bottom: 0.5em;}#sk-container-id-1 div.sk-estimator:hover {background-color: #d4ebff;}#sk-container-id-1 div.sk-parallel-item::after {content: \"\";width: 100%;border-bottom: 1px solid gray;flex-grow: 1;}#sk-container-id-1 div.sk-label:hover label.sk-toggleable__label {background-color: #d4ebff;}#sk-container-id-1 div.sk-serial::before {content: \"\";position: absolute;border-left: 1px solid gray;box-sizing: border-box;top: 0;bottom: 0;left: 50%;z-index: 0;}#sk-container-id-1 div.sk-serial {display: flex;flex-direction: column;align-items: center;background-color: white;padding-right: 0.2em;padding-left: 0.2em;position: relative;}#sk-container-id-1 div.sk-item {position: relative;z-index: 1;}#sk-container-id-1 div.sk-parallel {display: flex;align-items: stretch;justify-content: center;background-color: white;position: relative;}#sk-container-id-1 div.sk-item::before, #sk-container-id-1 div.sk-parallel-item::before {content: \"\";position: absolute;border-left: 1px solid gray;box-sizing: border-box;top: 0;bottom: 0;left: 50%;z-index: -1;}#sk-container-id-1 div.sk-parallel-item {display: flex;flex-direction: column;z-index: 1;position: relative;background-color: white;}#sk-container-id-1 div.sk-parallel-item:first-child::after {align-self: flex-end;width: 50%;}#sk-container-id-1 div.sk-parallel-item:last-child::after {align-self: flex-start;width: 50%;}#sk-container-id-1 div.sk-parallel-item:only-child::after {width: 0;}#sk-container-id-1 div.sk-dashed-wrapped {border: 1px dashed gray;margin: 0 0.4em 0.5em 0.4em;box-sizing: border-box;padding-bottom: 0.4em;background-color: white;}#sk-container-id-1 div.sk-label label {font-family: monospace;font-weight: bold;display: inline-block;line-height: 1.2em;}#sk-container-id-1 div.sk-label-container {text-align: center;}#sk-container-id-1 div.sk-container {/* jupyter's `normalize.less` sets `[hidden] { display: none; }` but bootstrap.min.css set `[hidden] { display: none !important; }` so we also need the `!important` here to be able to override the default hidden behavior on the sphinx rendered scikit-learn.org. See: https://github.com/scikit-learn/scikit-learn/issues/21755 */display: inline-block !important;position: relative;}#sk-container-id-1 div.sk-text-repr-fallback {display: none;}</style><div id=\"sk-container-id-1\" class=\"sk-top-container\"><div class=\"sk-text-repr-fallback\"><pre>SVC()</pre><b>In a Jupyter environment, please rerun this cell to show the HTML representation or trust the notebook. <br />On GitHub, the HTML representation is unable to render, please try loading this page with nbviewer.org.</b></div><div class=\"sk-container\" hidden><div class=\"sk-item\"><div class=\"sk-estimator sk-toggleable\"><input class=\"sk-toggleable__control sk-hidden--visually\" id=\"sk-estimator-id-1\" type=\"checkbox\" checked><label for=\"sk-estimator-id-1\" class=\"sk-toggleable__label sk-toggleable__label-arrow\">SVC</label><div class=\"sk-toggleable__content\"><pre>SVC()</pre></div></div></div></div></div>"
      ],
      "text/plain": [
       "SVC()"
      ]
     },
     "execution_count": 19,
     "metadata": {},
     "output_type": "execute_result"
    }
   ],
   "source": [
    "clf = svm.SVC()\n",
    "clf.fit(X_train, Y_train)"
   ]
  },
  {
   "cell_type": "code",
   "execution_count": 20,
   "id": "fdcf5eb1",
   "metadata": {},
   "outputs": [
    {
     "name": "stdout",
     "output_type": "stream",
     "text": [
      "[1 1 1 0 0 0 0 1 0 0 0 0 1 0 1 0 1 1 0 0 1 1 0 0 1 0 0 1 0 1 0 0 1]\n",
      "[1 1 1 0 0 0 0 1 0 0 0 0 1 0 1 0 1 1 0 0 1 1 0 0 1 0 0 1 0 1 0 0 1]\n"
     ]
    }
   ],
   "source": [
    "print(clf.predict(X_test))\n",
    "print(Y_test)"
   ]
  },
  {
   "cell_type": "markdown",
   "id": "f6a86d1e",
   "metadata": {},
   "source": [
    "Run on Real Quantum computer"
   ]
  },
  {
   "cell_type": "code",
   "execution_count": null,
   "id": "8953c0fa",
   "metadata": {},
   "outputs": [],
   "source": [
    "quantum_nn(X_test[6], theta, simulator=False)"
   ]
  },
  {
   "cell_type": "code",
   "execution_count": null,
   "id": "27edd817",
   "metadata": {},
   "outputs": [],
   "source": [
    "quantam_nn(X_test[6], theta)"
   ]
  },
  {
   "cell_type": "code",
   "execution_count": null,
   "id": "7998ab7a",
   "metadata": {},
   "outputs": [],
   "source": [
    "Y_test[6]"
   ]
  },
  {
   "cell_type": "code",
   "execution_count": null,
   "id": "6e0dfc30",
   "metadata": {},
   "outputs": [],
   "source": []
  },
  {
   "cell_type": "code",
   "execution_count": null,
   "id": "40517d28",
   "metadata": {},
   "outputs": [],
   "source": []
  }
 ],
 "metadata": {
  "kernelspec": {
   "display_name": "Python 3 (ipykernel)",
   "language": "python",
   "name": "python3"
  },
  "language_info": {
   "codemirror_mode": {
    "name": "ipython",
    "version": 3
   },
   "file_extension": ".py",
   "mimetype": "text/x-python",
   "name": "python",
   "nbconvert_exporter": "python",
   "pygments_lexer": "ipython3",
   "version": "3.11.4"
  }
 },
 "nbformat": 4,
 "nbformat_minor": 5
}
